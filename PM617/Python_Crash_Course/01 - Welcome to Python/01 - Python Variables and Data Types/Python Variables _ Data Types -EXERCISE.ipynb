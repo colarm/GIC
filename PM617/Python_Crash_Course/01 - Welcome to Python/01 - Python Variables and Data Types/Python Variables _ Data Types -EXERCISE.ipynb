{
  "cells": [
    {
      "cell_type": "markdown",
      "metadata": {
        "id": "ZvNsvUNNlZbi"
      },
      "source": [
        "---\n",
        "#  Crash Course Python for Data Science - Intro to Python  \n",
        "---\n",
        "# 01 - Python Variables & Data Types\n",
        "---\n",
        "\n",
        "## STOP! BEFORE GOING ANY FURTHER...  \n",
        "\n",
        "Remember, this exercises are open book, open neighbour, open everything! Try to do them on your own before looking at the solution samples.\n"
      ]
    },
    {
      "cell_type": "markdown",
      "metadata": {
        "id": "o57NvhYkBjKH"
      },
      "source": [
        "## Part 1: Variables\n"
      ]
    },
    {
      "cell_type": "markdown",
      "metadata": {
        "id": "4haXpvn1QXW_"
      },
      "source": [
        "### 1.1 Create three numerical variables (ints and/or floats) and add them together. At least one of your variables must hold a negative value."
      ]
    },
    {
      "cell_type": "code",
      "execution_count": 41,
      "metadata": {
        "id": "Aqs3liWFcouG"
      },
      "outputs": [
        {
          "data": {
            "text/plain": [
              "9.14"
            ]
          },
          "execution_count": 41,
          "metadata": {},
          "output_type": "execute_result"
        }
      ],
      "source": [
        "### YOUR CODE GOES HERE ###\n",
        "num1 = 12\n",
        "num2 = 3.14\n",
        "num3 = -6\n",
        "\n",
        "num1 + num2 + num3"
      ]
    },
    {
      "cell_type": "markdown",
      "metadata": {
        "id": "QSk1zFf4Qbzk"
      },
      "source": [
        "### 1.2 Write a sentence in five parts, assign each part to a variable, then concatenate them all together. Account for spacing!"
      ]
    },
    {
      "cell_type": "code",
      "execution_count": 42,
      "metadata": {
        "id": "knGTdX_jflb4"
      },
      "outputs": [
        {
          "data": {
            "text/plain": [
              "'WelcometothePythonWorld'"
            ]
          },
          "execution_count": 42,
          "metadata": {},
          "output_type": "execute_result"
        }
      ],
      "source": [
        "### YOUR CODE GOES HERE ###\n",
        "str1 = 'Welcome'\n",
        "str2 = 'to'\n",
        "str3 = 'the'\n",
        "str4 = 'Python'\n",
        "str5 = 'World'\n",
        "\n",
        "str1 + str2 + str3 + str4 + str5"
      ]
    },
    {
      "cell_type": "markdown",
      "metadata": {
        "id": "8EYDz3UtQflV"
      },
      "source": [
        "### 1.3 Calculate my body mass index. Here's the formula for BMI:  \n",
        "\n",
        ">$\\frac{Weight(kg)}{Height(m)^2} = BMI$  \n",
        "\n",
        "I am 1.60 meters tall and weighs 56 kg. Create a variable for this height, weight, and BMI by combining the first two.\n"
      ]
    },
    {
      "cell_type": "code",
      "execution_count": 43,
      "metadata": {
        "id": "3nxcXGoPg7Kd"
      },
      "outputs": [
        {
          "data": {
            "text/plain": [
              "21.874999999999996"
            ]
          },
          "execution_count": 43,
          "metadata": {},
          "output_type": "execute_result"
        }
      ],
      "source": [
        "### YOUR CODDE GOES HERE ###\n",
        "height = 1.60\n",
        "weight = 56\n",
        "BMI = weight / height ** 2\n",
        "BMI"
      ]
    },
    {
      "cell_type": "markdown",
      "metadata": {
        "id": "SV0stA9BUSCn"
      },
      "source": [
        "### 1.4 Now calculate your own BMI.\n",
        "How tall are you and what is your weight? If you're not sure, make a rough guess and calculate your BMI by changing the values of the variables you created for me. It's easier than creating all new variables, right?"
      ]
    },
    {
      "cell_type": "code",
      "execution_count": 44,
      "metadata": {
        "id": "t6rH9r_Ohwq5"
      },
      "outputs": [
        {
          "data": {
            "text/plain": [
              "23.671253629592222"
            ]
          },
          "execution_count": 44,
          "metadata": {},
          "output_type": "execute_result"
        }
      ],
      "source": [
        "### YOUR CODE GOES HERE ###\n",
        "height = 1.78\n",
        "weight = 75\n",
        "BMI = weight / height**2\n",
        "BMI"
      ]
    },
    {
      "cell_type": "markdown",
      "metadata": {
        "id": "LvfErOpESot3"
      },
      "source": [
        "## Part 2: Data Types"
      ]
    },
    {
      "cell_type": "markdown",
      "metadata": {
        "id": "u5SAr9vDSuCY"
      },
      "source": [
        "### 2.1 What is the data type of the following variables?"
      ]
    },
    {
      "cell_type": "code",
      "execution_count": 45,
      "metadata": {
        "id": "QWyELKj1Sssz"
      },
      "outputs": [],
      "source": [
        "a = -91\n",
        "b = 12.0222\n",
        "c = True\n",
        "d = \"Loosey goosey\""
      ]
    },
    {
      "cell_type": "code",
      "execution_count": 46,
      "metadata": {
        "id": "e3IT_1C3iKm3"
      },
      "outputs": [
        {
          "name": "stdout",
          "output_type": "stream",
          "text": [
            "<class 'int'>\n",
            "<class 'float'>\n",
            "<class 'bool'>\n",
            "<class 'str'>\n"
          ]
        }
      ],
      "source": [
        "### YOUR CODE GOES HERE ###\n",
        "print(type(a)) # int\n",
        "print(type(b)) # float\n",
        "print(type(c)) # bool\n",
        "print(type(d)) # str"
      ]
    },
    {
      "cell_type": "markdown",
      "metadata": {
        "id": "hBIomZKgS9Qw"
      },
      "source": [
        "### 2.2 How do strings behave differently than integers or floats?"
      ]
    },
    {
      "cell_type": "markdown",
      "metadata": {
        "id": "RT5d5gOoTFbV"
      },
      "source": [
        "The main difference between strings and integers/floats is that strings are collections of characters used to represent text data, while integers and floats represent numerical data. Additionally, strings are immutable, while integers and floats are mutable, meaning their values can change.\n"
      ]
    },
    {
      "cell_type": "markdown",
      "metadata": {
        "id": "tXH3HQGWTZ0-"
      },
      "source": [
        "### 2.3 Create one variable holding a string and another variable holding a float. Concatenate the two together. "
      ]
    },
    {
      "cell_type": "code",
      "execution_count": 47,
      "metadata": {
        "id": "ItnFPpdwi6H_"
      },
      "outputs": [
        {
          "data": {
            "text/plain": [
              "'3.14 is similar to PI. '"
            ]
          },
          "execution_count": 47,
          "metadata": {},
          "output_type": "execute_result"
        }
      ],
      "source": [
        "### YOUR CODE GOES HERE ###\n",
        "floatVariable = 3.14\n",
        "stringVariable = ' is similar to PI. '\n",
        "str(floatVariable) + stringVariable"
      ]
    },
    {
      "cell_type": "markdown",
      "metadata": {
        "id": "qVG_ZZyfTjyB"
      },
      "source": [
        "### YOU DID IT! Congratulations. I hope you feel more confident with Python now. Practice makes the master. See you on the next exercise. - Grace\n",
        "\n"
      ]
    }
  ],
  "metadata": {
    "colab": {
      "collapsed_sections": [],
      "name": "Python Variables & Data Types -EXERCISE.ipynb",
      "provenance": []
    },
    "kernelspec": {
      "display_name": "Python 3",
      "name": "python3"
    },
    "language_info": {
      "codemirror_mode": {
        "name": "ipython",
        "version": 3
      },
      "file_extension": ".py",
      "mimetype": "text/x-python",
      "name": "python",
      "nbconvert_exporter": "python",
      "pygments_lexer": "ipython3",
      "version": "3.11.8"
    }
  },
  "nbformat": 4,
  "nbformat_minor": 0
}
