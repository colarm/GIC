{
 "cells": [
  {
   "cell_type": "markdown",
   "metadata": {},
   "source": [
    "# EXERCISE: Multiple choice\n",
    "\n",
    "It's time to practice your control flow skills with this coding exercise.\n",
    "\n",
    "Be sure to use the tools you've learned about so far, including if statements, while loops, variables, and input-output. \n",
    "\n",
    "For this exercise, you will implement a single multiple-choice question in Java. \n",
    "\n",
    "You will come up with a question as well as three possible answer choices. One of these choices should be the correct answer. \n",
    "\n",
    "Using your knowledge of control flow and input and output, you will ask the user the question as well as provide the possible answer choices. The user will respond with one of these choices. If the user is correct, we will print out a congratulations message. If the user is incorrect, we will print out that the user is incorrect, as well as what the correct answer choice is. \n",
    "\n",
    "We've set up a few things for you in the code, so let's walk through what we have so far. \n",
    "\n",
    "First, we have four string variables. The first should contain the question. You will have to write in the question value. The next three contain answer choices. You will write in the values of the answers, as well. One of these choices will be the correct answer, and you should set that on line 10. \n",
    "\n",
    "The correct answer does not have to be choice two. It can be whatever you'd like. You may have noticed these grayed-out notes below. \n",
    "\n",
    "These are called comments. \n",
    "\n",
    "Whenever we want to make a note in our code just to the developers viewing the code, we use a comment. They are not evaluated or used by our program. We create a comment with two backslashes, and then write whatever note we would like to share. \n",
    "\n",
    "Let's get back to the exercise. Next, we'll write a print statement asking the user and then providing the answer choices to the user. Then you'll retrieve the user's input and check if it matches the correct answer. If the user is correct, print out a congrats message. If the user is incorrect, print out that the user is incorrect as well as what the correct answer choice is.\n",
    "\n",
    " Good luck!"
   ]
  },
  {
   "cell_type": "code",
   "execution_count": null,
   "metadata": {},
   "outputs": [],
   "source": [
    "\n",
    "import java.util.Scanner;\n",
    "\n",
    "public class Main {\n",
    "\n",
    "    public static void main(String args[]) {\n",
    "        String question = \"Which station is one of Glasgow subway station? \";\n",
    "        String choiceOne = \"Argyle\";\n",
    "        String choiceTwo = \"Buchanan\";\n",
    "        String choiceThree = \"Clyde\";\n",
    "\n",
    "        String correctAnswer = choiceTwo;\n",
    "\n",
    "        // Write a print statement asking the question\n",
    "        System.out.println(question);\n",
    "        // Write a print statement giving the answer choices\n",
    "        System.out.println(\"A: \" + choiceOne);\n",
    "        System.out.println(\"B: \" + choiceTwo);\n",
    "        System.out.println(\"C: \" + choiceThree);\n",
    "        // Have the user input an answer\n",
    "        Scanner scanner = new Scanner(System.in);\n",
    "        String answer = scanner.nextLine();\n",
    "        // Retrieve the user's input\n",
    "        // If the user's input matches the correctAnswer...\n",
    "        if (answer.equals(correctAnswer)) {\n",
    "            System.out.println(\"Congratulation! You are right! \");\n",
    "        }\n",
    "        // then the user is correct and we want to print out a congrats message to the\n",
    "        // user.\n",
    "\n",
    "        // If the user's input does not match the correctAnswer...\n",
    "        // then the user is incorrect and we want to print out a message saying that the\n",
    "        // user\n",
    "        // is incorrect as well as what the correct choice was. \n",
    "        else {\n",
    "            System.out.println(\"Sorry, your answer is wrong. \");\n",
    "        }\n",
    "    }\n",
    "\n",
    "}\n"
   ]
  }
 ],
 "metadata": {
  "kernelspec": {
   "display_name": "Java",
   "language": "java",
   "name": "java"
  },
  "language_info": {
   "name": "java",
   "version": ""
  },
  "orig_nbformat": 2
 },
 "nbformat": 4,
 "nbformat_minor": 2
}
