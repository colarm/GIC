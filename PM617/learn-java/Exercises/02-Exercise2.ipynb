{
 "cells": [
  {
   "cell_type": "markdown",
   "metadata": {},
   "source": [
    "# Exercise: Find the errors\n",
    "\n",
    "It's time to find some errors in a program with this coding exercise. Be sure to use the tools you've learned about so far, including print statements, break points, and the debugger. \n",
    "\n",
    "For this exercise, you will find and fix three errors hidden in a program that calculates the area of a triangle. \n",
    "\n",
    "The program will ask the user for the base of the triangle and the height of the triangle. Then the program will calculate the area of the triangle using the formula, base times height divided by two. Once the area of the triangle is found, the program will output the area to the user. \n",
    "\n",
    "Neither the base nor the height of the triangle should be less than or equal to zero. \n",
    "\n",
    "Let's check out the current program. In the `Main` function, we should calculate the area of a triangle. Right now, the program doesn't work and there are three errors. Check out the exercise files to get access to this program. \n",
    "\n",
    "Good luck!"
   ]
  },
  {
   "cell_type": "code",
   "execution_count": null,
   "metadata": {},
   "outputs": [],
   "source": [
    "import java.util.Scanner;\n",
    "\n",
    "public class Main {\n",
    "\n",
    "    public static void main(String[] args) {\n",
    "\n",
    "        System.out.println(\"Let's calculate the area of a triangle\");\n",
    "\n",
    "        Scanner input = new Scanner(System.in);\n",
    "\n",
    "        System.out.println(\"Please input the base of the triangle (in inches).\");\n",
    "        double base = input.nextDouble();\n",
    "\n",
    "        while (base <= 0) {\n",
    "            System.out.println(\"That's invalid. Please input the base of the triangle (in inches).\");\n",
    "            base = input.nextDouble();\n",
    "        }\n",
    "\n",
    "        System.out.println(\"Please input the height of the triangle (in inches).\");\n",
    "        double height = input.nextDouble();\n",
    "        while (height <= 0) {\n",
    "            System.out.println(\"That's invalid. Please input the base of the triangle (in inches).\");\n",
    "            height = input.nextDouble();\n",
    "        }\n",
    "\n",
    "        double area = (base * height) / 2;\n",
    "        System.out.println(\"The area is: \" + area);\n",
    "\n",
    "    }\n",
    "}"
   ]
  }
 ],
 "metadata": {
  "kernelspec": {
   "display_name": "Java",
   "name": "java"
  },
  "language_info": {
   "name": "java",
   "version": ""
  },
  "orig_nbformat": 2
 },
 "nbformat": 4,
 "nbformat_minor": 2
}
